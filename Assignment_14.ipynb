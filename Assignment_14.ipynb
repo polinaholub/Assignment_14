{
 "cells": [
  {
   "cell_type": "markdown",
   "metadata": {},
   "source": [
    "1. Create a class Product with properties name, price, and quantity. Create a child class Book that inherits from Product and adds a property author and a method called read."
   ]
  },
  {
   "cell_type": "code",
   "execution_count": 7,
   "metadata": {},
   "outputs": [],
   "source": [
    "class Product(object):\n",
    "    system = \"Common system\"\n",
    "    \n",
    "    def __init__(self, name, price, quantity):\n",
    "        self.name = name\n",
    "        self.price = price \n",
    "        self.quantity = quantity\n",
    "\n",
    "\n",
    "class Book(Product):\n",
    "    def __init__(self, name, price, quantity, author):\n",
    "        super().__init__(name, price, quantity)\n",
    "        self.author = author\n",
    "\n",
    "    def read(self):\n",
    "        pass\n",
    "\n"
   ]
  },
  {
   "cell_type": "code",
   "execution_count": 10,
   "metadata": {},
   "outputs": [
    {
     "data": {
      "text/plain": [
       "'One'"
      ]
     },
     "execution_count": 10,
     "metadata": {},
     "output_type": "execute_result"
    }
   ],
   "source": [
    "book = Book(\"One\", 32 , 2, \"He\")\n",
    "\n",
    "#book.name"
   ]
  },
  {
   "cell_type": "markdown",
   "metadata": {},
   "source": [
    "2. Create a class Restaurant with properties name, cuisine, and menu. The menu property should be a dictionary with keys being the dish name and values being the price. Create a child class FastFood that inherits from Restaurant and adds a property drive_thru (a boolean indicating whether the restaurant has a drive-thru or not) and a method called order which takes in the dish name and quantity and returns the total cost of the order. The method should also update the menu dictionary to subtract the ordered quantity from the available quantity. If the dish is not available or if the requested quantity is greater than the available quantity, the method should return a message indicating that the order cannot be fulfilled."
   ]
  },
  {
   "cell_type": "code",
   "execution_count": 27,
   "metadata": {},
   "outputs": [
    {
     "name": "stdout",
     "output_type": "stream",
     "text": [
      "25\n",
      "Requested quantity not available\n",
      "Dish not available\n"
     ]
    }
   ],
   "source": [
    "class Restaurant:\n",
    "    \n",
    "    def __init__(self, name, cuisine, menu):\n",
    "        self.name = name\n",
    "        self.cuisine = cuisine\n",
    "        self.menu = menu\n",
    "\n",
    "class FastFood(Restaurant):\n",
    "    \n",
    "    def __init__(self, name, cuisine, menu, drive_thru):\n",
    "        super().__init__(name, cuisine, menu)\n",
    "        self.drive_thru = drive_thru\n",
    "    \n",
    "    def order(self, dish_name, quantity):\n",
    "        if dish_name in self.menu and quantity <= self.menu[dish_name]['quantity']:\n",
    "            cost = self.menu[dish_name]['price'] * quantity\n",
    "            self.menu[dish_name]['quantity'] -= quantity\n",
    "            return cost\n",
    "        elif dish_name not in self.menu:\n",
    "            return \"Dish not available\"\n",
    "        else:\n",
    "            return \"Requested quantity not available\"\n",
    "\n",
    "\n",
    "\n",
    "menu =  {\n",
    "    'burger': {'price': 5, 'quantity': 10},\n",
    "    'pizza': {'price': 10, 'quantity': 20},\n",
    "    'drink': {'price': 1, 'quantity': 15}\n",
    "}\n",
    "\n",
    "mc = FastFood('McDonalds', 'Fast Food', menu, True)\n",
    "\n",
    "print(mc.order('burger', 5)) # 25\n",
    "print(mc.order('burger', 15)) # Requested quantity not available\n",
    "print(mc.order('soup', 5)) # Dish not available"
   ]
  },
  {
   "cell_type": "markdown",
   "metadata": {},
   "source": [
    "(Optional)\n",
    "1. Using the Account class as a base class, write two derived classes called SavingsAccount and CurrentAccount. A SavingsAccount object, in addition to the attributes of an Account object, should have an interest attribute and a method which adds interest to the account. A CurrentAccount object, in addition to the attributes of an Account object, should have an overdraft limit attribute."
   ]
  },
  {
   "cell_type": "code",
   "execution_count": 28,
   "metadata": {},
   "outputs": [
    {
     "ename": "IndentationError",
     "evalue": "expected an indented block after function definition on line 14 (3200437233.py, line 16)",
     "output_type": "error",
     "traceback": [
      "\u001b[1;36m  Cell \u001b[1;32mIn[28], line 16\u001b[1;36m\u001b[0m\n\u001b[1;33m    class CurrentAccount(Account):\u001b[0m\n\u001b[1;37m                                  ^\u001b[0m\n\u001b[1;31mIndentationError\u001b[0m\u001b[1;31m:\u001b[0m expected an indented block after function definition on line 14\n"
     ]
    }
   ],
   "source": [
    "class Account:\n",
    "    \n",
    "    def __init__(self, name, balance):\n",
    "        self.name = name\n",
    "        self.balance = balance\n",
    "        \n",
    "\n",
    "class SavingsAccount(Account):\n",
    "\n",
    "    def __init__(self, name, balance, interest):\n",
    "        super().__init__(name, balance)\n",
    "        self.interest = interest\n",
    "\n",
    "    def add_interest(self):\n",
    "        self.balance = self.balance * self.balance + (self.interest / 100)\n",
    "\n",
    "class CurrentAccount(Account):\n",
    "    def __input__(self, name, balance, overdraft_)\n",
    "\n",
    "    def __init__():\n",
    "\n"
   ]
  }
 ],
 "metadata": {
  "kernelspec": {
   "display_name": "Python 3",
   "language": "python",
   "name": "python3"
  },
  "language_info": {
   "codemirror_mode": {
    "name": "ipython",
    "version": 3
   },
   "file_extension": ".py",
   "mimetype": "text/x-python",
   "name": "python",
   "nbconvert_exporter": "python",
   "pygments_lexer": "ipython3",
   "version": "3.11.4"
  },
  "orig_nbformat": 4
 },
 "nbformat": 4,
 "nbformat_minor": 2
}
